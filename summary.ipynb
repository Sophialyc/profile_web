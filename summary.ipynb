{
  "cells": [
    {
      "cell_type": "markdown",
      "metadata": {},
      "source": [
        "# Contact\n",
        "\n",
        "# Get in touch for \n",
        "\n",
        "# Private lessons Performance, Collaborations,\n",
        "\n",
        "``` html\n",
        "```{html}\n",
        "<form id=\"contactForm\">\n",
        "    <label for=\"name\">Name:</label>\n",
        "    <input type=\"text\" id=\"name\" name=\"name\" required>\n",
        "\n",
        "    <label for=\"email\">Email:</label>\n",
        "    <input type=\"email\" id=\"email\" name=\"email\" required>\n",
        "\n",
        "    <label for=\"subject\">Subject:</label>\n",
        "    <input type=\"text\" id=\"subject\" name=\"subject\" required>\n",
        "\n",
        "    <label for=\"message\">Message:</label>\n",
        "    <textarea id=\"message\" name=\"message\" rows=\"4\" required></textarea>\n",
        "\n",
        "    <button type=\"button\" onclick=\"submitForm()\">Submit</button>\n",
        "</form>\n",
        "\n",
        "<script>\n",
        "    function submitForm() {\n",
        "        var name = document.getElementById('name').value;\n",
        "        var email = document.getElementById('email').value;\n",
        "        var subject = document.getElementById('subject').value;\n",
        "        var message = document.getElementById('message').value;\n",
        "\n",
        "        // You can perform additional validation here if needed\n",
        "\n",
        "        // Example: Displaying the entered values (replace this with your form submission logic)\n",
        "        alert('Name: ' + name + '\\nEmail: ' + email + '\\nSubject: ' + subject + '\\nMessage: ' + message);\n",
        "    }\n",
        "</script>\n",
        "```"
      ],
      "id": "f4b6e121"
    }
  ],
  "metadata": {
    "kernelspec": {
      "display_name": "Python 3",
      "language": "python",
      "name": "python3"
    }
  },
  "nbformat": 4,
  "nbformat_minor": 5
}